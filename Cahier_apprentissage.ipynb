{
 "cells": [
  {
   "cell_type": "markdown",
   "metadata": {},
   "source": [
    "# Cahier d'apprentissage"
   ]
  },
  {
   "cell_type": "markdown",
   "metadata": {},
   "source": [
    "## Sommaire"
   ]
  },
  {
   "cell_type": "markdown",
   "metadata": {},
   "source": [
    "* [Environnement](#EV)\n",
    "* [Méthodologie](#METHO)\n",
    "    * [Merise](#MERISE)\n",
    "    * [GitHub](#GIT)\n",
    "* [Base de donnée](#BDD)\n",
    "    * [SQL](#SQL)\n",
    "* [Python](#PY)\n",
    "* [HTML](#HTML)\n",
    "* [Interfaces graphiques](#IHM)\n",
    "* [Machine Learning](#ML)\n",
    "    * [Modules utiles](#MOD)\n",
    "    * [Méthodes de régression](#REG)\n",
    "* [Ressources éducatives](#EDUC)"
   ]
  },
  {
   "cell_type": "markdown",
   "metadata": {},
   "source": [
    "## Environnement <a id=\"EV\"></a>"
   ]
  },
  {
   "cell_type": "markdown",
   "metadata": {},
   "source": [
    "\n",
    "Lister l'ensemble des commandes disponibles :  clean, config, create, info, list....\n",
    "\n",
    "`conda --help (ou conda -h)`\n",
    "\n",
    "Créer un environnement (vide) :\n",
    "\n",
    "`conda create --name testenv1 (ou conda create -n testenv1)`\n",
    "\n",
    "Charger l'environnement testenv1, y installer Python :\n",
    "\n",
    "`source activate testenv1 `\n",
    "\n",
    "(testenv1) `conda install python `\n",
    "\n",
    "Exporter et importer un environnement\n",
    "\n",
    "`conda env export -n testenv2 -f backup-testenv2.yml`\n",
    "\n",
    "sauvegarde dans un simple fichier texte la liste des packages et des dépendances de l'environnement testenv2.\n",
    "\n",
    "Pour le restaurer (Vous, ou le collaborateur à qui vous l'auriez transmis) : \n",
    "\n",
    "`conda env create -f backup-testenv2.yml`"
   ]
  },
  {
   "cell_type": "markdown",
   "metadata": {},
   "source": [
    "## Méthodologie <a id=\"METHO\"></a>"
   ]
  },
  {
   "cell_type": "markdown",
   "metadata": {},
   "source": [
    "### Merise <a id=\"MERISE\"></a>"
   ]
  },
  {
   "cell_type": "markdown",
   "metadata": {},
   "source": [
    "[Exemple Merise](./Veilles/exemple_merise.pdf)"
   ]
  },
  {
   "cell_type": "markdown",
   "metadata": {},
   "source": [
    "* [Diagrammes de flux](./Veilles/30_Vieille/220106_Modelisation%20BDD_MERISE/Merise_diagramme_de_flux.docx)\n",
    "* [MLD et règles de conversion](./Veilles/30_Vieille/220106_Modelisation%20BDD_MERISE/Veille_Merise_-_MLD_les_relations_et_les_regles_de_conversion.pdf)\n",
    "* [MCT](./Veilles/30_Vieille/220106_Modelisation%20BDD_MERISE/merise_mct_.pdf)"
   ]
  },
  {
   "cell_type": "markdown",
   "metadata": {},
   "source": [
    "### Github <a id=\"GIT\"></a>"
   ]
  },
  {
   "cell_type": "markdown",
   "metadata": {},
   "source": [
    "* [Documentation GitHub](./Cahier_d_apprentissage.ipynb)"
   ]
  },
  {
   "cell_type": "markdown",
   "metadata": {},
   "source": [
    "## Base de donnée <a id=\"BDD\"></a>"
   ]
  },
  {
   "cell_type": "markdown",
   "metadata": {},
   "source": [
    "### SQL <a id=\"SQL\"></a>"
   ]
  },
  {
   "cell_type": "markdown",
   "metadata": {},
   "source": [
    "* [Documentation SQL](https://sql.sh/)\n",
    "* [Vues](https://www.commentcamarche.net/contents/1071-sql-creation-de-vues)\n",
    "* [Trigger](https://sql.sh/cours/create-trigger)\n",
    "* [Procédure stockées](https://sql.sh/cours/procedure-stockee)"
   ]
  },
  {
   "cell_type": "markdown",
   "metadata": {},
   "source": [
    "#  Code"
   ]
  },
  {
   "cell_type": "markdown",
   "metadata": {},
   "source": [
    "## Python <a id=\"PY\"></a>"
   ]
  },
  {
   "cell_type": "markdown",
   "metadata": {},
   "source": [
    "* [Les base en Python](https://courspython.com/bases-python.html)\n",
    "* [tkinter](./Veilles/30_Vieille/211215_Veille_Biblio_Graphiq/veille_tkinter.odp)\n",
    "* [Flask](./Veilles/kata_flask.pdf)"
   ]
  },
  {
   "cell_type": "markdown",
   "metadata": {},
   "source": [
    "# Interfaces"
   ]
  },
  {
   "cell_type": "markdown",
   "metadata": {},
   "source": [
    "## HTML <a id=\"HTML\"></a>"
   ]
  },
  {
   "cell_type": "markdown",
   "metadata": {},
   "source": [
    "* Rappels sur le web : [Questionnaire web](./Veilles/30_Vieille/220114_Web/google%20form_corr.pdf)\n",
    "* [Documentation htlm](https://www.w3schools.com/html/default.asp)"
   ]
  },
  {
   "cell_type": "markdown",
   "metadata": {},
   "source": [
    "* [Page de dons :](./Projets/Don_SQL_Html/) Projet de page de dons SQL, Python, HTML, CSS"
   ]
  },
  {
   "cell_type": "markdown",
   "metadata": {},
   "source": []
  },
  {
   "cell_type": "markdown",
   "metadata": {},
   "source": [
    "* [Statistiques](./Veilles/30_Vieille/211207_Veille_Math/Veille_Mathematiques__Machine_Learning_-_Donnees_statistiques_-_groupe_5.ppt)"
   ]
  },
  {
   "cell_type": "markdown",
   "metadata": {},
   "source": [
    "# Machine Learning <a id=\"ML\"></a>"
   ]
  },
  {
   "attachments": {},
   "cell_type": "markdown",
   "metadata": {},
   "source": [
    "\n",
    "### Modules utiles <a id=\"MOD\"></a>\n",
    "\n",
    "* [Pandas](https://pandas.pydata.org/docs/user_guide/dsintro.html) : manipulation de dataframe.\n",
    "* [Numpy](https://numpy.org/doc/stable/user/quickstart.html) : manipulation de matrice, array, tuples...\n",
    "* [Scikit-Learn](https://scikit-learn.org/stable/) : modèles IA.\n",
    "* [Scipy](https://scipy.github.io/devdocs/tutorial/general.html) : manipulation mathématiques.\n",
    "* [Matplotlib](https://matplotlib.org/stable/tutorials/index) : visualisation des données.\n",
    "* [TensorFlow](https://www.tensorflow.org/guide?hl=fr) : outils IA.\n",
    "* [Pytorch](https://pytorch.org/tutorials/)\n",
    "* [OpenCV](https://opencv.org/) : computer vision.\n",
    "* [Keras](https://keras.io/getting_started/à)"
   ]
  },
  {
   "cell_type": "markdown",
   "metadata": {},
   "source": [
    "## Méthodes de régression <a id=\"REG\"></a>"
   ]
  },
  {
   "cell_type": "markdown",
   "metadata": {},
   "source": [
    "* [Présentation](./IA/Presentation-ML_Matrices.pdf)\n",
    "* [Travaux régressions](./IA/Projet_IA_Jup-checkpoint.ipynb)"
   ]
  },
  {
   "cell_type": "markdown",
   "metadata": {},
   "source": [
    "# Ressources éducatives <a id=\"EDUC\"></a>"
   ]
  },
  {
   "cell_type": "markdown",
   "metadata": {},
   "source": [
    "* [Sololearn](https://www.sololearn.com/profile/24232768)\n",
    "* [Machine Learnia](https://machinelearnia.com/)\n",
    "* [GauGan2](http://gaugan.org/gaugan2/)"
   ]
  },
  {
   "cell_type": "code",
   "execution_count": null,
   "metadata": {},
   "outputs": [],
   "source": []
  }
 ],
 "metadata": {
  "kernelspec": {
   "display_name": "Python 3",
   "language": "python",
   "name": "python3"
  },
  "language_info": {
   "codemirror_mode": {
    "name": "ipython",
    "version": 3
   },
   "file_extension": ".py",
   "mimetype": "text/x-python",
   "name": "python",
   "nbconvert_exporter": "python",
   "pygments_lexer": "ipython3",
   "version": "3.8.3"
  }
 },
 "nbformat": 4,
 "nbformat_minor": 4
}
